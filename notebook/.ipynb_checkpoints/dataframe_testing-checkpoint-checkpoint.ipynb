{
 "cells": [
  {
   "cell_type": "code",
   "execution_count": 1,
   "id": "eee1a501",
   "metadata": {
    "scrolled": true
   },
   "outputs": [
    {
     "data": {
      "text/html": [
       "<div>\n",
       "<style scoped>\n",
       "    .dataframe tbody tr th:only-of-type {\n",
       "        vertical-align: middle;\n",
       "    }\n",
       "\n",
       "    .dataframe tbody tr th {\n",
       "        vertical-align: top;\n",
       "    }\n",
       "\n",
       "    .dataframe thead th {\n",
       "        text-align: right;\n",
       "    }\n",
       "</style>\n",
       "<table border=\"1\" class=\"dataframe\">\n",
       "  <thead>\n",
       "    <tr style=\"text-align: right;\">\n",
       "      <th></th>\n",
       "      <th>word</th>\n",
       "    </tr>\n",
       "  </thead>\n",
       "  <tbody>\n",
       "    <tr>\n",
       "      <th>532</th>\n",
       "      <td>defer</td>\n",
       "    </tr>\n",
       "    <tr>\n",
       "      <th>533</th>\n",
       "      <td>deign</td>\n",
       "    </tr>\n",
       "    <tr>\n",
       "      <th>534</th>\n",
       "      <td>deity</td>\n",
       "    </tr>\n",
       "    <tr>\n",
       "      <th>537</th>\n",
       "      <td>delve</td>\n",
       "    </tr>\n",
       "    <tr>\n",
       "      <th>538</th>\n",
       "      <td>demon</td>\n",
       "    </tr>\n",
       "    <tr>\n",
       "      <th>...</th>\n",
       "      <td>...</td>\n",
       "    </tr>\n",
       "    <tr>\n",
       "      <th>2305</th>\n",
       "      <td>wryly</td>\n",
       "    </tr>\n",
       "    <tr>\n",
       "      <th>2309</th>\n",
       "      <td>yield</td>\n",
       "    </tr>\n",
       "    <tr>\n",
       "      <th>2310</th>\n",
       "      <td>young</td>\n",
       "    </tr>\n",
       "    <tr>\n",
       "      <th>2311</th>\n",
       "      <td>youth</td>\n",
       "    </tr>\n",
       "    <tr>\n",
       "      <th>2313</th>\n",
       "      <td>zesty</td>\n",
       "    </tr>\n",
       "  </tbody>\n",
       "</table>\n",
       "<p>993 rows × 1 columns</p>\n",
       "</div>"
      ],
      "text/plain": [
       "       word\n",
       "532   defer\n",
       "533   deign\n",
       "534   deity\n",
       "537   delve\n",
       "538   demon\n",
       "...     ...\n",
       "2305  wryly\n",
       "2309  yield\n",
       "2310  young\n",
       "2311  youth\n",
       "2313  zesty\n",
       "\n",
       "[993 rows x 1 columns]"
      ]
     },
     "metadata": {},
     "output_type": "display_data"
    }
   ],
   "source": [
    "# TEST #1 FOR GRAY TILES:\n",
    "import pandas as pd\n",
    "\n",
    "DF_VALID_SOLUTIONS = pd.read_csv(\"data/valid_solutions.csv\")\n",
    "df = DF_VALID_SOLUTIONS\n",
    "\n",
    "letters = \"abc\"\n",
    "\n",
    "# Grey Filter:\n",
    "for letter in letters:\n",
    "    df = df[~(df['word'].str.contains(letter))]\n",
    "    \n",
    "display(df)\n",
    "\n"
   ]
  },
  {
   "cell_type": "code",
   "execution_count": 2,
   "id": "b258de51",
   "metadata": {},
   "outputs": [
    {
     "name": "stdout",
     "output_type": "stream",
     "text": [
      "^b.o.y$\n"
     ]
    },
    {
     "data": {
      "text/html": [
       "<div>\n",
       "<style scoped>\n",
       "    .dataframe tbody tr th:only-of-type {\n",
       "        vertical-align: middle;\n",
       "    }\n",
       "\n",
       "    .dataframe tbody tr th {\n",
       "        vertical-align: top;\n",
       "    }\n",
       "\n",
       "    .dataframe thead th {\n",
       "        text-align: right;\n",
       "    }\n",
       "</style>\n",
       "<table border=\"1\" class=\"dataframe\">\n",
       "  <thead>\n",
       "    <tr style=\"text-align: right;\">\n",
       "      <th></th>\n",
       "      <th>word</th>\n",
       "    </tr>\n",
       "  </thead>\n",
       "  <tbody>\n",
       "    <tr>\n",
       "      <th>242</th>\n",
       "      <td>booby</td>\n",
       "    </tr>\n",
       "    <tr>\n",
       "      <th>245</th>\n",
       "      <td>booty</td>\n",
       "    </tr>\n",
       "    <tr>\n",
       "      <th>247</th>\n",
       "      <td>boozy</td>\n",
       "    </tr>\n",
       "  </tbody>\n",
       "</table>\n",
       "</div>"
      ],
      "text/plain": [
       "      word\n",
       "242  booby\n",
       "245  booty\n",
       "247  boozy"
      ]
     },
     "metadata": {},
     "output_type": "display_data"
    }
   ],
   "source": [
    "# TEST #2 FOR GREEN TILES:\n",
    "import pandas as pd\n",
    "\n",
    "DF_VALID_SOLUTIONS = pd.read_csv(\"data/valid_solutions.csv\")\n",
    "df = DF_VALID_SOLUTIONS\n",
    "\n",
    "incomplete_word = \"b_o_y\"\n",
    "\n",
    "# Regular Expression Generator (translates incomplete_word to reg expression):\n",
    "reg_expression = \"^\"\n",
    "\n",
    "for ch in incomplete_word:\n",
    "    if ch == '_':\n",
    "        reg_expression += '.'\n",
    "    else:\n",
    "        reg_expression += ch\n",
    "\n",
    "reg_expression += '$'\n",
    "\n",
    "print(reg_expression)\n",
    "\n",
    "\n",
    "# Green Filter:\n",
    "for index in range(len(incomplete_word)):\n",
    "    if(incomplete_word[index] == '_'):\n",
    "        pass\n",
    "    else:\n",
    "        # Aquire words that have the letters in them (in the correct position)\n",
    "        df = df[df['word'].str.contains(reg_expression, regex = True)]\n",
    "\n",
    "display(df)"
   ]
  },
  {
   "cell_type": "code",
   "execution_count": 3,
   "id": "434971ee",
   "metadata": {},
   "outputs": [
    {
     "name": "stdout",
     "output_type": "stream",
     "text": [
      "^b.o.y$\n"
     ]
    },
    {
     "data": {
      "text/html": [
       "<div>\n",
       "<style scoped>\n",
       "    .dataframe tbody tr th:only-of-type {\n",
       "        vertical-align: middle;\n",
       "    }\n",
       "\n",
       "    .dataframe tbody tr th {\n",
       "        vertical-align: top;\n",
       "    }\n",
       "\n",
       "    .dataframe thead th {\n",
       "        text-align: right;\n",
       "    }\n",
       "</style>\n",
       "<table border=\"1\" class=\"dataframe\">\n",
       "  <thead>\n",
       "    <tr style=\"text-align: right;\">\n",
       "      <th></th>\n",
       "      <th>word</th>\n",
       "    </tr>\n",
       "  </thead>\n",
       "  <tbody>\n",
       "    <tr>\n",
       "      <th>242</th>\n",
       "      <td>booby</td>\n",
       "    </tr>\n",
       "  </tbody>\n",
       "</table>\n",
       "</div>"
      ],
      "text/plain": [
       "      word\n",
       "242  booby"
      ]
     },
     "metadata": {},
     "output_type": "display_data"
    }
   ],
   "source": [
    "# TEST #3 FOR GRAY AND GREEN TILES:\n",
    "import pandas as pd\n",
    "\n",
    "DF_VALID_SOLUTIONS = pd.read_csv(\"data/valid_solutions.csv\")\n",
    "df = DF_VALID_SOLUTIONS\n",
    "\n",
    "incomplete_word = \"b_o_y\"\n",
    "\n",
    "letters = \"tz\"\n",
    "\n",
    "# Grey Filter:\n",
    "for letter in letters:\n",
    "    df = df[~(df['word'].str.contains(letter))]\n",
    "\n",
    "# Regular Expression Generator (translates incomplete_word to reg expression):\n",
    "reg_expression = \"^\"\n",
    "\n",
    "for ch in incomplete_word:\n",
    "    if ch == '_':\n",
    "        reg_expression += '.'\n",
    "    else:\n",
    "        reg_expression += ch\n",
    "\n",
    "reg_expression += '$'\n",
    "\n",
    "print(reg_expression)\n",
    "\n",
    "\n",
    "# Green Filter:\n",
    "for index in range(len(incomplete_word)):\n",
    "    if(incomplete_word[index] == '_'):\n",
    "        pass\n",
    "    else:\n",
    "        # Aquire words that have the letters in them (in the correct position)\n",
    "        df = df[df['word'].str.contains(reg_expression, regex = True)]\n",
    "\n",
    "display(df)"
   ]
  },
  {
   "cell_type": "code",
   "execution_count": 24,
   "id": "f55b1d68",
   "metadata": {},
   "outputs": [
    {
     "name": "stdout",
     "output_type": "stream",
     "text": [
      "False\n",
      "False\n",
      "True\n"
     ]
    }
   ],
   "source": [
    "# TEST #4 FOR is_valid_input() TEST:\n",
    "\n",
    "guess_word = \"po!opy\"\n",
    "guess_tile_color= \"$GY$G\"\n",
    "\n",
    "\n",
    "if (len(guess_word) != 5 or len(guess_tile_color) != 5 ):\n",
    "    print(False)\n",
    "\n",
    "for ch in guess_word:\n",
    "    if (ch not in \"abcdefghijklmnopqrstuvwxyz\"):\n",
    "        print(False)\n",
    "\n",
    "for ch in guess_tile_color:\n",
    "    if (ch not in \"$GY\"):\n",
    "        print(False)\n",
    "\n",
    "print(True)"
   ]
  },
  {
   "cell_type": "code",
   "execution_count": 6,
   "id": "fa12fd9c",
   "metadata": {},
   "outputs": [
    {
     "name": "stdout",
     "output_type": "stream",
     "text": [
      "^...t.$\n",
      "Empty DataFrame\n",
      "Columns: [word]\n",
      "Index: []\n"
     ]
    }
   ],
   "source": [
    "# yellow filter \n",
    "\n",
    "incomplete_word = \"e_yt_\" ## t is green, y and e are yellow, so in the word, wrong space\n",
    "guess_tile_color= \"Y$YG$\" # $ no value, Y yellow, G green\n",
    "\n",
    "yellow = ['y','e']\n",
    "green = ['t']\n",
    "\n",
    "## Create a reg expression for words that have the green spaces correctly placed\n",
    "reg_expression = \"^\"\n",
    "\n",
    "for i in range(len(guess_tile_color)):\n",
    "    if incomplete_word[i] == '_':\n",
    "        reg_expression += '.'\n",
    "    else:\n",
    "        reg_expression += incomplete_word[i]\n",
    "\n",
    "reg_expression += '$'\n",
    "\n",
    "print(reg_expression)\n",
    "\n",
    "df = df[df['word'].str.contains(reg_expression, regex = True)]\n",
    "print(df)\n",
    "\n",
    "    "
   ]
  },
  {
   "cell_type": "code",
   "execution_count": null,
   "id": "1f87cc7f",
   "metadata": {},
   "outputs": [],
   "source": []
  }
 ],
 "metadata": {
  "kernelspec": {
   "display_name": "Python 3 (ipykernel)",
   "language": "python",
   "name": "python3"
  },
  "language_info": {
   "codemirror_mode": {
    "name": "ipython",
    "version": 3
   },
   "file_extension": ".py",
   "mimetype": "text/x-python",
   "name": "python",
   "nbconvert_exporter": "python",
   "pygments_lexer": "ipython3",
   "version": "3.10.7"
  }
 },
 "nbformat": 4,
 "nbformat_minor": 5
}
