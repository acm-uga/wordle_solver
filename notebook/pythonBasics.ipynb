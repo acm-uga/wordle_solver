{
 "cells": [
  {
   "cell_type": "code",
   "execution_count": 1,
   "id": "6fa43390",
   "metadata": {
    "scrolled": true
   },
   "outputs": [
    {
     "name": "stdout",
     "output_type": "stream",
     "text": [
      "Hello World\n"
     ]
    }
   ],
   "source": [
    "print(\"Hello World\")"
   ]
  },
  {
   "cell_type": "code",
   "execution_count": 4,
   "id": "5bafac58",
   "metadata": {},
   "outputs": [
    {
     "name": "stdout",
     "output_type": "stream",
     "text": [
      "128\n"
     ]
    }
   ],
   "source": [
    "a = 5\n",
    "b = 123\n",
    "print(a+b)"
   ]
  },
  {
   "cell_type": "code",
   "execution_count": 30,
   "id": "887774bd",
   "metadata": {},
   "outputs": [
    {
     "name": "stdout",
     "output_type": "stream",
     "text": [
      "sup dude\n"
     ]
    }
   ],
   "source": [
    "# Python is what we call a dynamically typed language. Java, C, C++ are \n",
    "# examples of a statically typed languge. This means that in some languages,\n",
    "# a programmer must specify the type of each variable. The advantage in\n",
    "# statically typed languages is that there is checking done by the compiler,\n",
    "# and a lot of silly mistakes/bugs can be caught on at compile time.\n",
    "# Dynamically typed languages forfeit that feature, at the gain of speed\n",
    "# when programming.\n",
    "\n",
    "a = 5\n",
    "a = \"sup dude\"\n",
    "print(a)"
   ]
  },
  {
   "cell_type": "code",
   "execution_count": 6,
   "id": "ff6f1d95",
   "metadata": {},
   "outputs": [
    {
     "name": "stdout",
     "output_type": "stream",
     "text": [
      "aaaaaa\n"
     ]
    }
   ],
   "source": [
    "a = 'a'\n",
    "print(a*6)"
   ]
  },
  {
   "cell_type": "code",
   "execution_count": 7,
   "id": "773d725f",
   "metadata": {},
   "outputs": [
    {
     "name": "stdout",
     "output_type": "stream",
     "text": [
      "<class 'int'>\n"
     ]
    }
   ],
   "source": [
    "x = 5\n",
    "print(type(x))"
   ]
  },
  {
   "cell_type": "code",
   "execution_count": 16,
   "id": "4fd3ed19",
   "metadata": {},
   "outputs": [
    {
     "name": "stdout",
     "output_type": "stream",
     "text": [
      "['UGA', 'Dawgs', 'CS', 'ACM']\n",
      "ACM\n",
      "['CS', 'ACM']\n"
     ]
    }
   ],
   "source": [
    "# Lists can have duplicate values:\n",
    "x = [\"UGA\", \"Dawgs\", \"CS\", \"ACM\"]\n",
    "print(x)\n",
    "print(x[3])\n",
    "print(x[2:5])c"
   ]
  },
  {
   "cell_type": "code",
   "execution_count": 27,
   "id": "a3c1c4a0",
   "metadata": {},
   "outputs": [
    {
     "name": "stdout",
     "output_type": "stream",
     "text": [
      "[5, 'Dawgs', True, 'ACM']\n"
     ]
    }
   ],
   "source": [
    "# Lists can contain values that have different data types:\n",
    "x = [5, \"Dawgs\", True, \"ACM\"]\n",
    "print(x)\n",
    "if (x[3] == True):\n",
    "    print(x[1])"
   ]
  },
  {
   "cell_type": "code",
   "execution_count": 38,
   "id": "0e8f2af2",
   "metadata": {},
   "outputs": [
    {
     "name": "stdout",
     "output_type": "stream",
     "text": [
      "{'UGA', 'ACM', 'Dawgs', 'CS'}\n"
     ]
    }
   ],
   "source": [
    "# Sets cannot have duplicate values:\n",
    "x = {\"UGA\", \"Dawgs\", \"CS\", \"ACM\", \"UGA\"}\n",
    "print(x)"
   ]
  },
  {
   "cell_type": "markdown",
   "id": "cc5b8851",
   "metadata": {},
   "source": []
  }
 ],
 "metadata": {
  "kernelspec": {
   "display_name": "Python 3 (ipykernel)",
   "language": "python",
   "name": "python3"
  },
  "language_info": {
   "codemirror_mode": {
    "name": "ipython",
    "version": 3
   },
   "file_extension": ".py",
   "mimetype": "text/x-python",
   "name": "python",
   "nbconvert_exporter": "python",
   "pygments_lexer": "ipython3",
   "version": "3.10.6"
  }
 },
 "nbformat": 4,
 "nbformat_minor": 5
}
